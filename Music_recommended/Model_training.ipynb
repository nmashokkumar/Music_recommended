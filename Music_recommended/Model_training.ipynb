{
 "cells": [
  {
   "cell_type": "markdown",
   "id": "d42524cb-2338-468a-b49e-bb908f1ae84b",
   "metadata": {},
   "source": [
    "## Import Packages"
   ]
  },
  {
   "cell_type": "code",
   "execution_count": 87,
   "id": "39f26a00-1bc2-4428-a881-773340c1ce79",
   "metadata": {},
   "outputs": [],
   "source": [
    "import pandas as pd\n",
    "import spacy\n",
    "from sklearn.feature_extraction.text import TfidfVectorizer\n",
    "from sklearn.metrics.pairwise import cosine_similarity\n",
    "import pickle\n"
   ]
  },
  {
   "cell_type": "markdown",
   "id": "279aaf31-85ff-4a3b-a094-671ca7e4c65c",
   "metadata": {},
   "source": [
    "## Perform EDA"
   ]
  },
  {
   "cell_type": "code",
   "execution_count": 60,
   "id": "de17ade8-d6e8-4d86-9a75-4289b2871cfb",
   "metadata": {},
   "outputs": [
    {
     "name": "stdout",
     "output_type": "stream",
     "text": [
      "(57650, 4)\n"
     ]
    },
    {
     "data": {
      "text/html": [
       "<div>\n",
       "<style scoped>\n",
       "    .dataframe tbody tr th:only-of-type {\n",
       "        vertical-align: middle;\n",
       "    }\n",
       "\n",
       "    .dataframe tbody tr th {\n",
       "        vertical-align: top;\n",
       "    }\n",
       "\n",
       "    .dataframe thead th {\n",
       "        text-align: right;\n",
       "    }\n",
       "</style>\n",
       "<table border=\"1\" class=\"dataframe\">\n",
       "  <thead>\n",
       "    <tr style=\"text-align: right;\">\n",
       "      <th></th>\n",
       "      <th>artist</th>\n",
       "      <th>song</th>\n",
       "      <th>link</th>\n",
       "      <th>text</th>\n",
       "    </tr>\n",
       "  </thead>\n",
       "  <tbody>\n",
       "    <tr>\n",
       "      <th>0</th>\n",
       "      <td>ABBA</td>\n",
       "      <td>Ahe's My Kind Of Girl</td>\n",
       "      <td>/a/abba/ahes+my+kind+of+girl_20598417.html</td>\n",
       "      <td>Look at her face, it's a wonderful face  \\r\\nA...</td>\n",
       "    </tr>\n",
       "    <tr>\n",
       "      <th>1</th>\n",
       "      <td>ABBA</td>\n",
       "      <td>Andante, Andante</td>\n",
       "      <td>/a/abba/andante+andante_20002708.html</td>\n",
       "      <td>Take it easy with me, please  \\r\\nTouch me gen...</td>\n",
       "    </tr>\n",
       "    <tr>\n",
       "      <th>2</th>\n",
       "      <td>ABBA</td>\n",
       "      <td>As Good As New</td>\n",
       "      <td>/a/abba/as+good+as+new_20003033.html</td>\n",
       "      <td>I'll never know why I had to go  \\r\\nWhy I had...</td>\n",
       "    </tr>\n",
       "    <tr>\n",
       "      <th>3</th>\n",
       "      <td>ABBA</td>\n",
       "      <td>Bang</td>\n",
       "      <td>/a/abba/bang_20598415.html</td>\n",
       "      <td>Making somebody happy is a question of give an...</td>\n",
       "    </tr>\n",
       "    <tr>\n",
       "      <th>4</th>\n",
       "      <td>ABBA</td>\n",
       "      <td>Bang-A-Boomerang</td>\n",
       "      <td>/a/abba/bang+a+boomerang_20002668.html</td>\n",
       "      <td>Making somebody happy is a question of give an...</td>\n",
       "    </tr>\n",
       "  </tbody>\n",
       "</table>\n",
       "</div>"
      ],
      "text/plain": [
       "  artist                   song                                        link  \\\n",
       "0   ABBA  Ahe's My Kind Of Girl  /a/abba/ahes+my+kind+of+girl_20598417.html   \n",
       "1   ABBA       Andante, Andante       /a/abba/andante+andante_20002708.html   \n",
       "2   ABBA         As Good As New        /a/abba/as+good+as+new_20003033.html   \n",
       "3   ABBA                   Bang                  /a/abba/bang_20598415.html   \n",
       "4   ABBA       Bang-A-Boomerang      /a/abba/bang+a+boomerang_20002668.html   \n",
       "\n",
       "                                                text  \n",
       "0  Look at her face, it's a wonderful face  \\r\\nA...  \n",
       "1  Take it easy with me, please  \\r\\nTouch me gen...  \n",
       "2  I'll never know why I had to go  \\r\\nWhy I had...  \n",
       "3  Making somebody happy is a question of give an...  \n",
       "4  Making somebody happy is a question of give an...  "
      ]
     },
     "execution_count": 60,
     "metadata": {},
     "output_type": "execute_result"
    }
   ],
   "source": [
    "df = pd.read_csv('spotify_millsongdata.csv')\n",
    "print(df.shape)\n",
    "df.head()"
   ]
  },
  {
   "cell_type": "code",
   "execution_count": 61,
   "id": "015c8529-969f-4963-a6f4-c4e89f02fa13",
   "metadata": {},
   "outputs": [
    {
     "data": {
      "text/plain": [
       "artist    0\n",
       "song      0\n",
       "link      0\n",
       "text      0\n",
       "dtype: int64"
      ]
     },
     "execution_count": 61,
     "metadata": {},
     "output_type": "execute_result"
    }
   ],
   "source": [
    "df.isnull().sum()"
   ]
  },
  {
   "cell_type": "code",
   "execution_count": 62,
   "id": "5ac23344-7bd1-4a99-bab1-2c6e3a444500",
   "metadata": {},
   "outputs": [],
   "source": [
    "df.drop(['link'], axis=1, inplace=True)"
   ]
  },
  {
   "cell_type": "code",
   "execution_count": 63,
   "id": "83d87726-37ff-418a-9360-75f14da298a5",
   "metadata": {},
   "outputs": [],
   "source": [
    "df = df.sample(5000)"
   ]
  },
  {
   "cell_type": "code",
   "execution_count": 64,
   "id": "f0335fc5-9783-4916-805c-a165e43f547a",
   "metadata": {},
   "outputs": [
    {
     "data": {
      "text/html": [
       "<div>\n",
       "<style scoped>\n",
       "    .dataframe tbody tr th:only-of-type {\n",
       "        vertical-align: middle;\n",
       "    }\n",
       "\n",
       "    .dataframe tbody tr th {\n",
       "        vertical-align: top;\n",
       "    }\n",
       "\n",
       "    .dataframe thead th {\n",
       "        text-align: right;\n",
       "    }\n",
       "</style>\n",
       "<table border=\"1\" class=\"dataframe\">\n",
       "  <thead>\n",
       "    <tr style=\"text-align: right;\">\n",
       "      <th></th>\n",
       "      <th>artist</th>\n",
       "      <th>song</th>\n",
       "      <th>text</th>\n",
       "    </tr>\n",
       "  </thead>\n",
       "  <tbody>\n",
       "    <tr>\n",
       "      <th>51442</th>\n",
       "      <td>Scorpions</td>\n",
       "      <td>Hit Between The Eyes</td>\n",
       "      <td>Late at night when you're all alone  \\r\\nTake ...</td>\n",
       "    </tr>\n",
       "    <tr>\n",
       "      <th>426</th>\n",
       "      <td>Alabama</td>\n",
       "      <td>Lonesome Valley</td>\n",
       "      <td>\\r\\nWell, you got to walk that lonesome vall...</td>\n",
       "    </tr>\n",
       "    <tr>\n",
       "      <th>49403</th>\n",
       "      <td>Queen Adreena</td>\n",
       "      <td>Ruby</td>\n",
       "      <td>Kill or be killed  \\r\\nI applaud it  \\r\\nGet a...</td>\n",
       "    </tr>\n",
       "    <tr>\n",
       "      <th>18181</th>\n",
       "      <td>Roxette</td>\n",
       "      <td>Neverending Love</td>\n",
       "      <td>Chasing your shadow,  \\r\\nThe senses together,...</td>\n",
       "    </tr>\n",
       "    <tr>\n",
       "      <th>22856</th>\n",
       "      <td>Ace Of Base</td>\n",
       "      <td>Juliet</td>\n",
       "      <td>Juliet  \\r\\nA girl you never should have met  ...</td>\n",
       "    </tr>\n",
       "  </tbody>\n",
       "</table>\n",
       "</div>"
      ],
      "text/plain": [
       "              artist                  song  \\\n",
       "51442      Scorpions  Hit Between The Eyes   \n",
       "426          Alabama       Lonesome Valley   \n",
       "49403  Queen Adreena                  Ruby   \n",
       "18181        Roxette      Neverending Love   \n",
       "22856    Ace Of Base                Juliet   \n",
       "\n",
       "                                                    text  \n",
       "51442  Late at night when you're all alone  \\r\\nTake ...  \n",
       "426      \\r\\nWell, you got to walk that lonesome vall...  \n",
       "49403  Kill or be killed  \\r\\nI applaud it  \\r\\nGet a...  \n",
       "18181  Chasing your shadow,  \\r\\nThe senses together,...  \n",
       "22856  Juliet  \\r\\nA girl you never should have met  ...  "
      ]
     },
     "execution_count": 64,
     "metadata": {},
     "output_type": "execute_result"
    }
   ],
   "source": [
    "df.head()"
   ]
  },
  {
   "cell_type": "markdown",
   "id": "a2a3f84a-1783-4e11-a93d-41735cb0e3fd",
   "metadata": {},
   "source": [
    "## Data Preprocessing"
   ]
  },
  {
   "cell_type": "code",
   "execution_count": 67,
   "id": "55ed29bf-b729-47ad-889f-afe6a1742b58",
   "metadata": {},
   "outputs": [
    {
     "data": {
      "text/plain": [
       "\"  \\r\\nWell, you got to walk that lonesome valley  \\r\\nYou got to walk it by yourselves  \\r\\nNobody else can walk it for you  \\r\\nYou got to walk it by yourselves  \\r\\n  \\r\\nNow mother walked that lonesome valley  \\r\\nShe had to walk it by herself  \\r\\nCause nobody else could walk it for her  \\r\\nShe had to walk it by herself  \\r\\n  \\r\\nNow father walked that lonesome valley  \\r\\nHe had to walk it by himself  \\r\\nNobody else could walk it for him  \\r\\nHe had to walk it by himself  \\r\\n  \\r\\nNow John, they say, he was a Baptist  \\r\\nWhile others say, he was a Jew  \\r\\nBut the holy bible plainly tells you  \\r\\nOh, that he was a preacher too  \\r\\n  \\r\\nYeah, you got to walk that lonesome valley  \\r\\nYou got to walk it by yourselves  \\r\\nAin't nobody else gonna go there for you  \\r\\nYou got to go there by yourselves  \\r\\n  \\r\\nYeah, we got to walk that lonesome valley  \\r\\nWe got to walk it by ourselves (by ourselves)  \\r\\nCause nobody else (nobody else) can walk it for us  \\r\\nWe got to walk it by ourselves  \\r\\n  \\r\\nYeah, we got to walk (we got to walk)  \\r\\nThat lonesome valley (that lonesome valley)  \\r\\nWe got to walk (we got to walk) it by ourselves (by ourselves)  \\r\\nLord, nobody else (nobody else) can walk it for us  \\r\\n(Can walk it for you)  \\r\\nWe got to walk (we got to walk) it by ourselves  \\r\\n  \\r\\nYeah, we got to walk (we got to walk) it by ourselves  \\r\\n  \\r\\n\\r\\n\""
      ]
     },
     "execution_count": 67,
     "metadata": {},
     "output_type": "execute_result"
    }
   ],
   "source": [
    "df['text'][426]"
   ]
  },
  {
   "cell_type": "code",
   "execution_count": 68,
   "id": "42daf180-5246-4f78-9096-e0048c393202",
   "metadata": {},
   "outputs": [
    {
     "data": {
      "text/plain": [
       "(5000, 3)"
      ]
     },
     "execution_count": 68,
     "metadata": {},
     "output_type": "execute_result"
    }
   ],
   "source": [
    "df.shape"
   ]
  },
  {
   "cell_type": "code",
   "execution_count": 69,
   "id": "2e7648cf-2583-4199-ad3a-a62aa5ef55c3",
   "metadata": {},
   "outputs": [],
   "source": [
    "df['text'] = df['text'].str.lower().replace(r'^\\w\\s', ' ').replace(r'\\n', ' ', regex= True)"
   ]
  },
  {
   "cell_type": "code",
   "execution_count": 70,
   "id": "9706b390-6e24-4823-b21c-ea39970c78f2",
   "metadata": {},
   "outputs": [
    {
     "data": {
      "text/plain": [
       "7557     in trinidad there was a family  \\r with much c...\n",
       "18714    on again  \\r no i newer knew we could go on an...\n",
       "55400    when you said you were leaving tomorrow that t...\n",
       "9386     di di di di di la la la la la la  \\r in a spac...\n",
       "24885    look what i found in my beer  \\r a couple of d...\n",
       "Name: text, dtype: object"
      ]
     },
     "execution_count": 70,
     "metadata": {},
     "output_type": "execute_result"
    }
   ],
   "source": [
    "df.text.tail()"
   ]
  },
  {
   "cell_type": "markdown",
   "id": "c83a9eea-aa83-4b6b-8788-ad875c6b12cf",
   "metadata": {},
   "source": [
    "### Stop_words and Lemmatization "
   ]
  },
  {
   "cell_type": "code",
   "execution_count": 71,
   "id": "e16aa8b0-d981-4f01-9929-e22f2b8466ba",
   "metadata": {},
   "outputs": [],
   "source": [
    "nlp = spacy.load(\"en_core_web_md\") \n",
    "def preprocess(text):\n",
    "    doc = nlp(text)\n",
    "    filtered_tokens = []\n",
    "    for token in doc:\n",
    "        if token.is_stop or token.is_punct:\n",
    "            continue\n",
    "        filtered_tokens.append(token.lemma_)\n",
    "    \n",
    "    return \" \".join(filtered_tokens) "
   ]
  },
  {
   "cell_type": "code",
   "execution_count": 75,
   "id": "e033297d-45e7-4662-9787-5836337eec58",
   "metadata": {},
   "outputs": [],
   "source": [
    "df['text'] = df['text'].apply(preprocess)"
   ]
  },
  {
   "cell_type": "code",
   "execution_count": 76,
   "id": "ec61fcc4-a2c4-442a-a9c2-651e5e269a90",
   "metadata": {},
   "outputs": [
    {
     "data": {
      "text/plain": [
       "'trinidad family  \\r   confusion  \\r   mama papa boy grow  \\r   want marry wife  \\r   meet young girl suit nice  \\r   papa ask advice  \\r   papa son  \\r   girl sister mama know  \\r   \\r   woe shame scandal family  \\r   woe worry shame scandal family  \\r   \\r   week summer come  \\r   soon girl island find  \\r   papa day  \\r   papa shake head time  \\r   marry girl  \\r   girl aunty granny know hey  \\r   \\r   woe shame scandal family  \\r   woe worry shame scandal family  \\r   \\r   mama cover head  \\r   tell mama papa  \\r   mama laugh son  \\r   daddy daddy daddy know  \\r   \\r   mama cover head  \\r   tell mama papa  \\r   mama laugh son  \\r   daddy daddy daddy know \\r \\r '"
      ]
     },
     "execution_count": 76,
     "metadata": {},
     "output_type": "execute_result"
    }
   ],
   "source": [
    "df['text'][7557]"
   ]
  },
  {
   "cell_type": "code",
   "execution_count": 77,
   "id": "857331ca-e91c-4f6a-828e-8d259bc20746",
   "metadata": {},
   "outputs": [],
   "source": [
    "tf = TfidfVectorizer(analyzer='word', stop_words='english')"
   ]
  },
  {
   "cell_type": "code",
   "execution_count": 78,
   "id": "95897703-f3cd-407f-b95e-a704ab2a46f2",
   "metadata": {},
   "outputs": [],
   "source": [
    "matrix = tf.fit_transform(df['text'])"
   ]
  },
  {
   "cell_type": "code",
   "execution_count": 79,
   "id": "72e52cb0-7954-402b-bf8c-0e040250ab48",
   "metadata": {},
   "outputs": [],
   "source": [
    "similar = cosine_similarity(matrix)"
   ]
  },
  {
   "cell_type": "code",
   "execution_count": 81,
   "id": "b0e9d22b-cef1-46aa-99d9-c6e27c0c93d8",
   "metadata": {},
   "outputs": [
    {
     "data": {
      "text/plain": [
       "array([0.00000000e+00, 1.00000000e+00, 6.88513863e-04, ...,\n",
       "       5.70869420e-02, 4.02985911e-02, 0.00000000e+00], shape=(5000,))"
      ]
     },
     "execution_count": 81,
     "metadata": {},
     "output_type": "execute_result"
    }
   ],
   "source": [
    "similar[1]"
   ]
  },
  {
   "cell_type": "code",
   "execution_count": 83,
   "id": "06eba580-a850-4f2e-8d5b-aa6d4c38c339",
   "metadata": {},
   "outputs": [
    {
     "data": {
      "text/plain": [
       "np.int64(426)"
      ]
     },
     "execution_count": 83,
     "metadata": {},
     "output_type": "execute_result"
    }
   ],
   "source": [
    "df[df['song']=='Lonesome Valley'].index[0]"
   ]
  },
  {
   "cell_type": "markdown",
   "id": "3c90bcf6-0ba4-4480-8ed7-e21dd3888340",
   "metadata": {},
   "source": [
    "## Recommender Function"
   ]
  },
  {
   "cell_type": "code",
   "execution_count": 84,
   "id": "49a656b1-cabd-45a8-9539-28bf152bf4e6",
   "metadata": {},
   "outputs": [],
   "source": [
    "def recommender(song_name):\n",
    "    idx = df[df['song']==song_name].index[0]\n",
    "    distance = sorted(list(enumerate(similar[idx])), reverse=True, key= lambda x:x[1])\n",
    "    song=[]\n",
    "    for s_id in distance[1:6]:\n",
    "        song.append(df.iloc[s_id[0]].song)\n",
    "    return song"
   ]
  },
  {
   "cell_type": "code",
   "execution_count": 86,
   "id": "438a3664-43d9-4d31-8004-86a061d82bbc",
   "metadata": {},
   "outputs": [
    {
     "data": {
      "text/plain": [
       "['Every Night',\n",
       " 'I Just Wanna Stop',\n",
       " 'Only See',\n",
       " 'I Want You So Bad',\n",
       " 'Always Find The Time']"
      ]
     },
     "execution_count": 86,
     "metadata": {},
     "output_type": "execute_result"
    }
   ],
   "source": [
    "recommender('Lonesome Valley')"
   ]
  },
  {
   "cell_type": "code",
   "execution_count": 89,
   "id": "f8b690cb-6ce3-4ebf-9fe2-65398c610e2d",
   "metadata": {},
   "outputs": [],
   "source": [
    "pickle.dump(similar, open(\"similarity\", \"wb\"))\n"
   ]
  },
  {
   "cell_type": "code",
   "execution_count": 90,
   "id": "2cf953ae-7a59-4c5c-8620-42015ad090a2",
   "metadata": {},
   "outputs": [],
   "source": [
    "pickle.dump(df, open(\"df\", \"wb\"))\n"
   ]
  },
  {
   "cell_type": "code",
   "execution_count": null,
   "id": "58eb57a1-1652-4e4d-af42-4058b22253ae",
   "metadata": {},
   "outputs": [],
   "source": []
  }
 ],
 "metadata": {
  "kernelspec": {
   "display_name": "Python 3",
   "language": "python",
   "name": "python3"
  },
  "language_info": {
   "codemirror_mode": {
    "name": "ipython",
    "version": 3
   },
   "file_extension": ".py",
   "mimetype": "text/x-python",
   "name": "python",
   "nbconvert_exporter": "python",
   "pygments_lexer": "ipython3",
   "version": "3.10.0"
  }
 },
 "nbformat": 4,
 "nbformat_minor": 5
}
